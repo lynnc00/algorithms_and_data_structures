{
 "cells": [
  {
   "cell_type": "markdown",
   "metadata": {},
   "source": [
    "# Practice Interview\n",
    "\n",
    "## Objective\n",
    "\n",
    "_*The partner assignment aims to provide participants with the opportunity to practice coding in an interview context. You will analyze your partner's Assignment 1. Moreover, code reviews are common practice in a software development team. This assignment should give you a taste of the code review process.*_\n",
    "\n",
    "## Group Size\n",
    "\n",
    "Each group should have 2 people. You will be assigned a partner\n",
    "\n",
    "## Part 1:\n",
    "\n",
    "You and your partner must share each other's Assignment 1 submission."
   ]
  },
  {
   "cell_type": "markdown",
   "metadata": {},
   "source": [
    "\n",
    "## Part 2:\n",
    "\n",
    "Create a Jupyter Notebook, create 6 of the following headings, and complete the following for your partner's assignment 1:\n",
    "\n",
    "-   Paraphrase the problem in your own words.\n"
   ]
  },
  {
   "cell_type": "code",
   "execution_count": null,
   "metadata": {},
   "outputs": [],
   "source": [
    "# When there is a list of n integers in a range from 0 to n, \n",
    "# we need to check if there is a missing number within this range in the list.\n",
    "# If we find the missing numbers, return the list contains a list of all missing numbers.\n",
    "# If no missing number is found, return value of -1.\n",
    "# Please note that the list of numbers are not unique, might be containing duplicates."
   ]
  },
  {
   "cell_type": "markdown",
   "metadata": {},
   "source": [
    "\n",
    "-   Create 1 new example that demonstrates you understand the problem. Trace/walkthrough 1 example that your partner made and explain it.\n"
   ]
  },
  {
   "cell_type": "code",
   "execution_count": null,
   "metadata": {},
   "outputs": [],
   "source": [
    "# New example - Input = [0, 2, 4, 5, 8] Output: [1, 3, 6, 7]\n",
    "# Explain of my partner's example 1: There is list of numbers from range 0 to 10, and numbers '6,7,9' are missing from the list. So the output should equal to [6, 7, 9]."
   ]
  },
  {
   "cell_type": "markdown",
   "metadata": {},
   "source": [
    "\n",
    "-   Copy the solution your partner wrote. \n"
   ]
  },
  {
   "cell_type": "code",
   "execution_count": 1,
   "metadata": {},
   "outputs": [
    {
     "name": "stdout",
     "output_type": "stream",
     "text": [
      "[1]\n",
      "[2, 3, 4]\n",
      "[4, 9]\n",
      "[6, 7, 9]\n",
      "[-1]\n"
     ]
    }
   ],
   "source": [
    "# Copied sulotion shows below\n",
    "\n",
    "from typing import List\n",
    "\n",
    "def missing_num(nums: List[int]) -> List[int]:\n",
    "    n = max(nums)  # Determine the maximum number in the list\n",
    "    full_set = set(range(n + 1))  # Create a set of numbers from 0 to n\n",
    "    num_set = set(nums)  # Create a set to store unique numbers in nums\n",
    "    missing = list(full_set - num_set)  # Find the difference between the full set and the num set\n",
    "    \n",
    "    # If there are missing numbers, return them sorted\n",
    "    if missing:\n",
    "        return sorted(missing)\n",
    "    else:\n",
    "        return [-1]\n",
    "\n",
    "# Test cases\n",
    "print(missing_num([0, 2]))  \n",
    "print(missing_num([5, 0, 1]))  \n",
    "print(missing_num([6, 8, 2, 3, 5, 7, 0, 1, 10]))  \n",
    "print(missing_num([0, 2, 2, 1, 3, 3, 4, 5, 5, 8, 8, 10])) #ls\n",
    "print(missing_num([5, 0, 1, 1, 2, 3, 3, 4, 5, 6, 7, 7, 8, 9, 9, 10])) #ls2"
   ]
  },
  {
   "cell_type": "markdown",
   "metadata": {},
   "source": [
    "\n",
    "-   Explain why their solution works in your own words.\n"
   ]
  },
  {
   "cell_type": "code",
   "execution_count": null,
   "metadata": {},
   "outputs": [],
   "source": [
    "# Here are some reasons why my partner's solution works:\n",
    "# 1. Successfully determined the maximum number ('n') in the list and identified the range of '[0, n]' that we need to check for missing numbers.\n",
    "# 2. Created 2 sets ('full_set' and 'num_set') to create one set contains all numbers from range 0 to n, and converted the input list into a set of non-duplicated numbers.\n",
    "# 3. Identified all missing numbers in the range from 0 to n from input list by using the 'full_set - num_set'. And the returning list is sorted by ascending order.\n",
    "# 4. Returned '-1' if there is no missing number in input list from range [0, n]"
   ]
  },
  {
   "cell_type": "markdown",
   "metadata": {},
   "source": [
    "\n",
    "-   Explain the problem’s time and space complexity in your own words.\n"
   ]
  },
  {
   "cell_type": "code",
   "execution_count": null,
   "metadata": {},
   "outputs": [],
   "source": [
    "# Time Complexity: O(n log n). Since the time complexity of defining the upper bound value of input list and creating the sets to find the missing numbers are all O(n), but the complexity of sorting the list is O(n log n), the overall complexity of O(n log n)\n",
    "# Space Comlexity: O(n). Since the spaces are used to record all missing numbers by sets and lists are O(n), the space of complexity is O(n)."
   ]
  },
  {
   "cell_type": "markdown",
   "metadata": {},
   "source": [
    "\n",
    "-   Critique your partner's solution, including explanation, and if there is anything that should be adjusted.\n"
   ]
  },
  {
   "cell_type": "code",
   "execution_count": null,
   "metadata": {},
   "outputs": [],
   "source": [
    "# My partner's solution correctly resolved the problem and presented the required results. Because it effectively and effciently identifed the maximum value in the range and the missing number from the input list.\n",
    "# There are some rooms should be adjusted for the improvement:\n",
    "# 1. The step of sorting missing number list is not neccessary, as the missing number should be already in order and this step can increase the time complexity.\n",
    "# 2. It's better to add one step at the begining to work on the case if the input is empty list."
   ]
  },
  {
   "cell_type": "markdown",
   "metadata": {},
   "source": [
    "\n",
    "## Part 3:\n",
    "\n",
    "Please write a 200 word reflection documenting your process from assignment 1, and your presentation and review experience with your partner at the bottom of the Jupyter Notebook under a new heading \"Reflection.\" Again, export this Notebook as pdf.\n"
   ]
  },
  {
   "cell_type": "markdown",
   "metadata": {},
   "source": [
    "### Reflection"
   ]
  },
  {
   "cell_type": "code",
   "execution_count": null,
   "metadata": {},
   "outputs": [],
   "source": [
    "# My resolution process of Problem 1 in Assignment 1 was very educational and insightful. \n",
    "# The task required finding the closest duplicates to the root in a binary tree. After reviewing the examples, I chose the Breadth-First Search (BFS) approach to find the results. \n",
    "# This approach is aligned with the requirements and is efficient for identifying duplicates. I used a queue to manage the traversal process and implemented the recursive function to effectively work through each node of the tree.\n",
    "# Meanwhile, this resolution successfully worked for the spepcial case, such as the input is an empty set. This resolution demonstrated the importance of understanding the most effective way to proceed the traversal methods and chose the right approach to save time.\n",
    "\n",
    "# Presentation and review experience with my partner was also valuable. It provided me a better understanding of resolving the data structure and algorithm problems. \n",
    "# Through exploring problem 3, I gained a deeper knowledge of working with different sets of numbers and providing effective results.\n",
    "# Also, my partner's feedbacks also helped me to understand how to improve my answers, and the needed area that I should focus on to develp my algorithm.\n",
    "# This collabrative process won the benefits of enhancing the understanding of algorithm problems and provided the easier way to address the exisiting issues within the code.\n",
    "\n",
    "# To conclude, this review experience highlighted the importance of understanding various algorithmic approaches, extending solutions to solve problems, and developing current answers to better provide the needed results."
   ]
  },
  {
   "cell_type": "markdown",
   "metadata": {},
   "source": [
    "\n",
    "## Evaluation Criteria\n",
    "\n",
    "We are looking for the similar points as Assignment 1\n",
    "\n",
    "-   Problem is accurately stated\n",
    "\n",
    "-   New example is correct and easily understandable\n",
    "\n",
    "-   Correctness, time, and space complexity of the coding solution\n",
    "\n",
    "-   Clarity in explaining why the solution works, its time and space complexity\n",
    "\n",
    "-   Quality of critique of your partner's assignment, if necessary\n"
   ]
  },
  {
   "cell_type": "markdown",
   "metadata": {},
   "source": [
    "## Submission Information\n",
    "\n",
    "🚨 **Please review our [Assignment Submission Guide](https://github.com/UofT-DSI/onboarding/blob/main/onboarding_documents/submissions.md)** 🚨 for detailed instructions on how to format, branch, and submit your work. Following these guidelines is crucial for your submissions to be evaluated correctly.\n",
    "\n",
    "### Submission Parameters:\n",
    "* Submission Due Date: `HH:MM AM/PM - DD/MM/YYYY`\n",
    "* The branch name for your repo should be: `assignment-2`\n",
    "* What to submit for this assignment:\n",
    "    * This Jupyter Notebook (assignment_2.ipynb) should be populated and should be the only change in your pull request.\n",
    "* What the pull request link should look like for this assignment: `https://github.com/<your_github_username>/algorithms_and_data_structures/pull/<pr_id>`\n",
    "    * Open a private window in your browser. Copy and paste the link to your pull request into the address bar. Make sure you can see your pull request properly. This helps the technical facilitator and learning support staff review your submission easily.\n",
    "\n",
    "Checklist:\n",
    "- [ ] Created a branch with the correct naming convention.\n",
    "- [ ] Ensured that the repository is public.\n",
    "- [ ] Reviewed the PR description guidelines and adhered to them.\n",
    "- [ ] Verify that the link is accessible in a private browser window.\n",
    "\n",
    "If you encounter any difficulties or have questions, please don't hesitate to reach out to our team via our Slack at `#cohort-3-help`. Our Technical Facilitators and Learning Support staff are here to help you navigate any challenges.\n"
   ]
  }
 ],
 "metadata": {
  "kernelspec": {
   "display_name": "dsi_participant",
   "language": "python",
   "name": "python3"
  },
  "language_info": {
   "codemirror_mode": {
    "name": "ipython",
    "version": 3
   },
   "file_extension": ".py",
   "mimetype": "text/x-python",
   "name": "python",
   "nbconvert_exporter": "python",
   "pygments_lexer": "ipython3",
   "version": "3.9.19"
  }
 },
 "nbformat": 4,
 "nbformat_minor": 2
}
